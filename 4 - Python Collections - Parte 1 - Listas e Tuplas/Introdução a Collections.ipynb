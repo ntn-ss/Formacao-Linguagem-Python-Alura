{
 "cells": [
  {
   "cell_type": "code",
   "execution_count": null,
   "metadata": {},
   "outputs": [],
   "source": [
    "# - AULAS NESTE ARQUIVO: -\n",
    "# 01. Introdução\n",
    "# 02. Introdução as coleções e lista\n",
    "# 03. Mais operações em listas e list comprehension\n",
    "# 04. Problemas da mutabilidade da lista\n",
    "# 05. Listas com objetos de classes nossas\n",
    "# 06. Tuplas, objetos e anemia\n",
    "# 07. Tupla de objetos e lista de tuplas\n",
    "# 08. Listas e polimorfismo\n",
    "# 09. Arrays e Numpy\n",
    "# 10. Método abstrato\n",
    "# 11. Igualdade e o eq\n",
    "# 12. Builtins como enumerated, range e desempacotamento automatico de tuplas\n",
    "# 13. Ordenação básica\n",
    "# 14. Ordenação de objetos sem ordem natural\n",
    "# 15. Implementando o lt\n",
    "# 16. Ordenação completa e functools"
   ]
  },
  {
   "cell_type": "code",
   "execution_count": 117,
   "metadata": {},
   "outputs": [
    {
     "name": "stdout",
     "output_type": "stream",
     "text": [
      "39 30 27 18\n"
     ]
    }
   ],
   "source": [
    "idade1 = 39\n",
    "idade2 = 30\n",
    "idade3 = 27\n",
    "idade4 = 18\n",
    "\n",
    "print(idade1, idade2, idade3, idade4)"
   ]
  },
  {
   "cell_type": "code",
   "execution_count": 118,
   "metadata": {},
   "outputs": [
    {
     "data": {
      "text/plain": [
       "list"
      ]
     },
     "execution_count": 118,
     "metadata": {},
     "output_type": "execute_result"
    }
   ],
   "source": [
    "idades = [39, 30, 27, 18]\n",
    "\n",
    "type(idades)"
   ]
  },
  {
   "cell_type": "code",
   "execution_count": 119,
   "metadata": {},
   "outputs": [
    {
     "data": {
      "text/plain": [
       "4"
      ]
     },
     "execution_count": 119,
     "metadata": {},
     "output_type": "execute_result"
    }
   ],
   "source": [
    "len(idades)"
   ]
  },
  {
   "cell_type": "code",
   "execution_count": 120,
   "metadata": {},
   "outputs": [
    {
     "data": {
      "text/plain": [
       "39"
      ]
     },
     "execution_count": 120,
     "metadata": {},
     "output_type": "execute_result"
    }
   ],
   "source": [
    "idades[0]"
   ]
  },
  {
   "cell_type": "code",
   "execution_count": 121,
   "metadata": {},
   "outputs": [
    {
     "name": "stdout",
     "output_type": "stream",
     "text": [
      "39 30 27 18\n"
     ]
    }
   ],
   "source": [
    "print(idades[0], idades[1], idades[2], idades[3])"
   ]
  },
  {
   "cell_type": "code",
   "execution_count": 122,
   "metadata": {},
   "outputs": [],
   "source": [
    "idades.append(15)"
   ]
  },
  {
   "cell_type": "code",
   "execution_count": 123,
   "metadata": {},
   "outputs": [
    {
     "data": {
      "text/plain": [
       "[39, 30, 27, 18, 15]"
      ]
     },
     "execution_count": 123,
     "metadata": {},
     "output_type": "execute_result"
    }
   ],
   "source": [
    "idades"
   ]
  },
  {
   "cell_type": "code",
   "execution_count": 124,
   "metadata": {},
   "outputs": [
    {
     "name": "stdout",
     "output_type": "stream",
     "text": [
      "39\n",
      "30\n",
      "27\n",
      "18\n",
      "15\n"
     ]
    }
   ],
   "source": [
    "for idade in idades:\n",
    "    print(idade)"
   ]
  },
  {
   "cell_type": "code",
   "execution_count": 125,
   "metadata": {},
   "outputs": [],
   "source": [
    "idades.remove(30)"
   ]
  },
  {
   "cell_type": "code",
   "execution_count": 126,
   "metadata": {},
   "outputs": [
    {
     "name": "stdout",
     "output_type": "stream",
     "text": [
      "[39, 27, 18]\n"
     ]
    }
   ],
   "source": [
    "if 15 in idades:\n",
    "    idades.remove(15)\n",
    "\n",
    "print(idades)"
   ]
  },
  {
   "cell_type": "code",
   "execution_count": 127,
   "metadata": {},
   "outputs": [
    {
     "name": "stdout",
     "output_type": "stream",
     "text": [
      "[20, 39, 27, 18]\n",
      "[20, 39, 27, 18, 35, 98]\n"
     ]
    }
   ],
   "source": [
    "idades.insert(0, 20)\n",
    "print(idades)\n",
    "idades.extend([35, 98])\n",
    "print(idades)"
   ]
  },
  {
   "cell_type": "code",
   "execution_count": 128,
   "metadata": {},
   "outputs": [
    {
     "name": "stdout",
     "output_type": "stream",
     "text": [
      "[21, 40, 28, 19, 36, 99]\n"
     ]
    }
   ],
   "source": [
    "idadesAnoQueVem = [(idade+1) for idade in idades]\n",
    "\n",
    "print (idadesAnoQueVem)"
   ]
  },
  {
   "cell_type": "code",
   "execution_count": 129,
   "metadata": {},
   "outputs": [
    {
     "name": "stdout",
     "output_type": "stream",
     "text": [
      "[40, 28, 36, 99]\n"
     ]
    }
   ],
   "source": [
    "idadesAnoQueVem = [idade for idade in idadesAnoQueVem if idade>21]\n",
    "print (idadesAnoQueVem)"
   ]
  },
  {
   "cell_type": "code",
   "execution_count": 130,
   "metadata": {},
   "outputs": [
    {
     "name": "stdout",
     "output_type": "stream",
     "text": [
      "[41, 37, 100]\n"
     ]
    }
   ],
   "source": [
    "def proximoAno(idade):\n",
    "    return idade+1\n",
    "\n",
    "idadesAnoDepoisDoProximo = [proximoAno(idade) for idade in idadesAnoQueVem if idade > 35]\n",
    "print(idadesAnoDepoisDoProximo)"
   ]
  },
  {
   "cell_type": "code",
   "execution_count": 131,
   "metadata": {},
   "outputs": [
    {
     "name": "stdout",
     "output_type": "stream",
     "text": [
      "[]\n"
     ]
    }
   ],
   "source": [
    "\n",
    "idades.clear()\n",
    "print(idades)"
   ]
  },
  {
   "cell_type": "code",
   "execution_count": 132,
   "metadata": {},
   "outputs": [],
   "source": [
    "def processaTamanho(lista):\n",
    "    print(len(lista))"
   ]
  },
  {
   "cell_type": "code",
   "execution_count": 133,
   "metadata": {},
   "outputs": [
    {
     "name": "stdout",
     "output_type": "stream",
     "text": [
      "5\n",
      "[16, 21, 29, 56, 43]\n"
     ]
    }
   ],
   "source": [
    "idades = [16, 21, 29, 56, 43]\n",
    "processaTamanho(idades)\n",
    "print(idades)"
   ]
  },
  {
   "cell_type": "code",
   "execution_count": 134,
   "metadata": {},
   "outputs": [],
   "source": [
    "def criaListaNova(lista = None):\n",
    "    if lista == None:\n",
    "        lista=list()\n",
    "    print(len(lista))\n",
    "    lista.append(13)\n",
    "    print(lista)"
   ]
  },
  {
   "cell_type": "code",
   "execution_count": 135,
   "metadata": {},
   "outputs": [
    {
     "name": "stdout",
     "output_type": "stream",
     "text": [
      "0\n",
      "[13]\n",
      "0\n",
      "[13]\n",
      "0\n",
      "[13]\n"
     ]
    }
   ],
   "source": [
    "criaListaNova()\n",
    "criaListaNova()\n",
    "criaListaNova()"
   ]
  },
  {
   "cell_type": "markdown",
   "metadata": {},
   "source": [
    "Objetos próprios"
   ]
  },
  {
   "cell_type": "code",
   "execution_count": 136,
   "metadata": {},
   "outputs": [],
   "source": [
    "class ContaCorrente:\n",
    "    def __init__(self, codigo):\n",
    "        self.codigo = codigo\n",
    "        self.saldo = 0\n",
    "    \n",
    "    def deposita(self, valor):\n",
    "        self.saldo+=valor\n",
    "    \n",
    "    def __str__(self):\n",
    "        return \"[ >> Código: {}. Saldo: {}. << ]\".format(self.codigo, self.saldo)"
   ]
  },
  {
   "cell_type": "code",
   "execution_count": 137,
   "metadata": {},
   "outputs": [
    {
     "name": "stdout",
     "output_type": "stream",
     "text": [
      "[ >> Código: 21. Saldo: 0. << ]\n"
     ]
    }
   ],
   "source": [
    "conta_do_nathan = ContaCorrente(21)\n",
    "print(conta_do_nathan)"
   ]
  },
  {
   "cell_type": "code",
   "execution_count": 138,
   "metadata": {},
   "outputs": [
    {
     "name": "stdout",
     "output_type": "stream",
     "text": [
      "[ >> Código: 21. Saldo: 500. << ]\n"
     ]
    }
   ],
   "source": [
    "conta_do_nathan.deposita(500)\n",
    "print(conta_do_nathan)"
   ]
  },
  {
   "cell_type": "code",
   "execution_count": 139,
   "metadata": {},
   "outputs": [
    {
     "name": "stdout",
     "output_type": "stream",
     "text": [
      "[ >> Código: 666. Saldo: 1000. << ]\n"
     ]
    }
   ],
   "source": [
    "conta_da_sarah = ContaCorrente(666)\n",
    "conta_da_sarah.deposita(1000)\n",
    "print(conta_da_sarah)"
   ]
  },
  {
   "cell_type": "code",
   "execution_count": 140,
   "metadata": {},
   "outputs": [
    {
     "name": "stdout",
     "output_type": "stream",
     "text": [
      "[ >> Código: 21. Saldo: 500. << ]\n",
      "[ >> Código: 666. Saldo: 1000. << ]\n"
     ]
    }
   ],
   "source": [
    "contas = [conta_do_nathan, conta_da_sarah]\n",
    "\n",
    "for conta in contas:\n",
    "    print(conta)"
   ]
  },
  {
   "cell_type": "code",
   "execution_count": 141,
   "metadata": {},
   "outputs": [
    {
     "name": "stdout",
     "output_type": "stream",
     "text": [
      "[ >> Código: 21. Saldo: 500. << ]\n",
      "[ >> Código: 21. Saldo: 600. << ]\n",
      "[ >> Código: 21. Saldo: 600. << ]\n"
     ]
    }
   ],
   "source": [
    "# colocar objetos em listas não instancia novos, apenas cria referências. É perigoso quando o objeto é mutável.\n",
    "\n",
    "contas = [conta_do_nathan, conta_da_sarah, conta_do_nathan]\n",
    "print(contas[0])\n",
    "\n",
    "conta_do_nathan.deposita(100)\n",
    "print(contas[2])\n",
    "\n",
    "print(conta_do_nathan)"
   ]
  },
  {
   "cell_type": "code",
   "execution_count": 142,
   "metadata": {},
   "outputs": [
    {
     "name": "stdout",
     "output_type": "stream",
     "text": [
      "[ >> Código: 21. Saldo: 700. << ]\n",
      "[ >> Código: 666. Saldo: 1100. << ]\n"
     ]
    }
   ],
   "source": [
    "# Recomenda-se que listas tenham o mesmo tipo, trabalhando-se de maneira \"uniforme\".\n",
    "def depositaParaTodos(contas):\n",
    "    for conta in contas:\n",
    "        conta.deposita(100)\n",
    "\n",
    "contas = [conta_do_nathan, conta_da_sarah]\n",
    "depositaParaTodos(contas)\n",
    "\n",
    "for conta in contas:\n",
    "    print (conta)"
   ]
  },
  {
   "cell_type": "code",
   "execution_count": 143,
   "metadata": {},
   "outputs": [
    {
     "name": "stdout",
     "output_type": "stream",
     "text": [
      "50 [ >> Código: 21. Saldo: 700. << ] [ >> Código: 666. Saldo: 1100. << ]\n"
     ]
    }
   ],
   "source": [
    "# Decidiram, na firma, que o vetor de contas terá um número de agência antes.\n",
    "\n",
    "contas.insert(0,50)\n",
    "print (contas[0], contas[1], contas[2])"
   ]
  },
  {
   "cell_type": "code",
   "execution_count": 144,
   "metadata": {},
   "outputs": [
    {
     "ename": "AttributeError",
     "evalue": "'int' object has no attribute 'deposita'",
     "output_type": "error",
     "traceback": [
      "\u001b[1;31m---------------------------------------------------------------------------\u001b[0m",
      "\u001b[1;31mAttributeError\u001b[0m                            Traceback (most recent call last)",
      "Cell \u001b[1;32mIn [144], line 2\u001b[0m\n\u001b[0;32m      1\u001b[0m \u001b[38;5;66;03m# O método quebra.\u001b[39;00m\n\u001b[1;32m----> 2\u001b[0m depositaParaTodos(contas)\n\u001b[0;32m      4\u001b[0m \u001b[38;5;28mprint\u001b[39m(contas[\u001b[38;5;241m0\u001b[39m], contas[\u001b[38;5;241m1\u001b[39m], contas[\u001b[38;5;241m2\u001b[39m])\n",
      "Cell \u001b[1;32mIn [142], line 4\u001b[0m, in \u001b[0;36mdepositaParaTodos\u001b[1;34m(contas)\u001b[0m\n\u001b[0;32m      2\u001b[0m \u001b[38;5;28;01mdef\u001b[39;00m \u001b[38;5;21mdepositaParaTodos\u001b[39m(contas):\n\u001b[0;32m      3\u001b[0m     \u001b[38;5;28;01mfor\u001b[39;00m conta \u001b[38;5;129;01min\u001b[39;00m contas:\n\u001b[1;32m----> 4\u001b[0m         \u001b[43mconta\u001b[49m\u001b[38;5;241;43m.\u001b[39;49m\u001b[43mdeposita\u001b[49m(\u001b[38;5;241m100\u001b[39m)\n",
      "\u001b[1;31mAttributeError\u001b[0m: 'int' object has no attribute 'deposita'"
     ]
    }
   ],
   "source": [
    "# O método quebra.\n",
    "depositaParaTodos(contas)\n",
    "\n",
    "print(contas[0], contas[1], contas[2])"
   ]
  },
  {
   "cell_type": "code",
   "execution_count": null,
   "metadata": {},
   "outputs": [],
   "source": [
    "# Uma sequência em que cada posição tenha um número de espaços fixos, determinado no momento de inicialização, chama-se \"tupla\", demarcada com parênteses.\n",
    "\n",
    "nathan = ('Nathan', 21, 2002)\n",
    "thales = ('Thales', 20, 2002)\n",
    "    # Nome, idade, data de nascimento\n",
    "    \n",
    "# Seria ruim criar uma tupla com posições despadronizadas. Como:\n",
    "# breno = (23, 'Breno', 2000) # RUIM\n",
    "\n",
    "# Tuplas não têm atributo append, são imutáveis: não se adiciona ou remove nada dela. Não se ativa métodos por elas, como o \"deposita\". Exemplo:\n",
    "\n",
    "# conta_do_nathan = (21, 500)\n",
    "# conta_do_nathan.deposita(100) =>  Não existe.\n",
    "\n",
    "# def deposita(conta) => Aí faz sentido, mas trabalhar com funções isoladamente mais lembra programação funcional que a variada a objetos."
   ]
  },
  {
   "cell_type": "code",
   "execution_count": null,
   "metadata": {},
   "outputs": [],
   "source": [
    "# Variação funcional\n",
    "outra_conta_do_nathan = (21, 500)\n",
    "print(outra_conta_do_nathan)\n",
    "\n",
    "def deposita(conta):\n",
    "    novo_codigo = conta[0]\n",
    "    novo_saldo = conta[1] + 100 # Torna-se temporário\n",
    "\n",
    "    return (novo_codigo, novo_saldo) # Retorna nova tupla\n",
    "\n",
    "print(conta_do_nathan)\n",
    "conta_do_nathan = deposita(outra_conta_do_nathan)\n",
    "\n",
    "print(conta_do_nathan)"
   ]
  },
  {
   "cell_type": "code",
   "execution_count": null,
   "metadata": {},
   "outputs": [],
   "source": [
    "# Tuplas podem ir dentro de listas. No \"mundo real\", é sempre uma mistura de tudo. Por exemplo: se um sistema pode receber novos usuários mas um usuário criado não puder ser editado, faz sentido.\n",
    "\n",
    "usuarios = [nathan, thales]\n",
    "usuarios\n",
    "\n",
    "usuarios.append((\"Breno\", 23, 2000))\n",
    "usuarios"
   ]
  },
  {
   "cell_type": "code",
   "execution_count": null,
   "metadata": {},
   "outputs": [],
   "source": [
    "usuarios [0][0] = 'Nathan Santos'\n",
    "        # Blasfêmia."
   ]
  },
  {
   "cell_type": "code",
   "execution_count": null,
   "metadata": {},
   "outputs": [],
   "source": [
    "conta_do_nathan = ContaCorrente(21)\n",
    "conta_do_nathan.deposita(500)\n",
    "\n",
    "conta_da_sarah = ContaCorrente(666)\n",
    "conta_da_sarah.deposita(1000)\n",
    "\n",
    "contas = (conta_do_nathan, conta_da_sarah)\n",
    "contas"
   ]
  },
  {
   "cell_type": "code",
   "execution_count": null,
   "metadata": {},
   "outputs": [],
   "source": [
    "for conta in contas:\n",
    "    print(conta)\n",
    "\n",
    "# contas.append(\"teste\") # A tupla não se altera, por apenas referenciar valores...\n",
    "\n",
    "contas[0].deposita(500) # Mas o objeto que a constitui pode, sim, ser mudado.\n",
    "\n",
    "for conta in contas:\n",
    "    print(conta)"
   ]
  },
  {
   "cell_type": "code",
   "execution_count": null,
   "metadata": {},
   "outputs": [],
   "source": [
    "# Herança e polimorfismo\n",
    "\n",
    "from abc import ABCMeta, abstractmethod\n",
    "class Conta(metaclass=ABCMeta):\n",
    "    def __init__(self, codigo):\n",
    "        self._codigo = codigo\n",
    "        self._saldo = 0\n",
    "    \n",
    "    def deposita(self, valor):\n",
    "        self._saldo += valor\n",
    "    \n",
    "    # Quero que classes que não tenham sobrescrito o método acusem erro\n",
    "    @abstractmethod\n",
    "    def passa_o_mes(self):\n",
    "        pass\n",
    "    \n",
    "    def __str__(self):\n",
    "        return \"[ >> Código: {}. Saldo: {}. << ]\".format(self._codigo, self._saldo)"
   ]
  },
  {
   "cell_type": "code",
   "execution_count": null,
   "metadata": {},
   "outputs": [],
   "source": [
    "print(Conta(88))"
   ]
  },
  {
   "cell_type": "code",
   "execution_count": null,
   "metadata": {},
   "outputs": [],
   "source": [
    "class ContaCorrente(Conta): # herda de Conta\n",
    "    def passa_o_mes(self):\n",
    "        self._saldo -= 2\n",
    "    \n",
    "class ContaPoupanca(Conta):\n",
    "    def passa_o_mes(self):\n",
    "        self._saldo *= 1.01\n",
    "        self._saldo -= 3\n",
    "    \n",
    "class ContaInvestimento(Conta):\n",
    "    pass"
   ]
  },
  {
   "cell_type": "code",
   "execution_count": null,
   "metadata": {},
   "outputs": [],
   "source": [
    "ContaInvestimento(123)"
   ]
  },
  {
   "cell_type": "code",
   "execution_count": null,
   "metadata": {},
   "outputs": [],
   "source": [
    "conta16 = ContaCorrente(16)\n",
    "conta16.deposita(1000)\n",
    "conta16.passa_o_mes()\n",
    "print(conta16)"
   ]
  },
  {
   "cell_type": "code",
   "execution_count": null,
   "metadata": {},
   "outputs": [],
   "source": [
    "conta17 = ContaPoupanca(17)\n",
    "conta17.deposita(1000)\n",
    "conta17.passa_o_mes()\n",
    "print(conta17)"
   ]
  },
  {
   "cell_type": "code",
   "execution_count": null,
   "metadata": {},
   "outputs": [],
   "source": [
    "conta16 = ContaCorrente(16)\n",
    "conta16.deposita(1000)\n",
    "\n",
    "conta17 = ContaPoupanca(17)\n",
    "conta17.deposita(1000)\n",
    "\n",
    "contas = [conta16, conta17]\n",
    "\n",
    "for conta in contas:\n",
    "    conta.passa_o_mes() # duck typing\n",
    "    print(conta)"
   ]
  },
  {
   "cell_type": "code",
   "execution_count": null,
   "metadata": {},
   "outputs": [],
   "source": [
    "# Array, evitaremos usar\n",
    "import array as arr\n",
    "\n",
    "arr.array('d', [1, 3.5])"
   ]
  },
  {
   "cell_type": "code",
   "execution_count": null,
   "metadata": {},
   "outputs": [],
   "source": [
    "# O tipo array processa os valores de forma mais eficiente.\n",
    "# arr.array('d', [1, 3.5, 'Nathan'])"
   ]
  },
  {
   "cell_type": "code",
   "execution_count": null,
   "metadata": {},
   "outputs": [],
   "source": [
    "# Evitaremos array puro. Se precisarmos de trabalho numérico, usaremos o numpy\n",
    "import numpy as np\n",
    "\n",
    "numeros = np.array([1,3.5])\n",
    "numeros"
   ]
  },
  {
   "cell_type": "code",
   "execution_count": null,
   "metadata": {},
   "outputs": [],
   "source": [
    "numeros + 3"
   ]
  },
  {
   "cell_type": "code",
   "execution_count": null,
   "metadata": {},
   "outputs": [],
   "source": [
    "class ContaSalario:\n",
    "    def __init__(self, codigo):\n",
    "        self._codigo = codigo\n",
    "        self._saldo = 0\n",
    "    def deposita (self, valor):\n",
    "        self._saldo += valor\n",
    "    def __str__ (self):\n",
    "        return '[>> Código: {}. Saldo: {}. <<]'.format(self._codigo, self._saldo)"
   ]
  },
  {
   "cell_type": "code",
   "execution_count": null,
   "metadata": {},
   "outputs": [
    {
     "name": "stdout",
     "output_type": "stream",
     "text": [
      "[>> Código: 37. Saldo: 0. <<]\n"
     ]
    }
   ],
   "source": [
    "conta1 = ContaSalario(37)\n",
    "print(conta1)"
   ]
  },
  {
   "cell_type": "code",
   "execution_count": null,
   "metadata": {},
   "outputs": [
    {
     "name": "stdout",
     "output_type": "stream",
     "text": [
      "[>> Código: 37. Saldo: 0. <<]\n"
     ]
    }
   ],
   "source": [
    "conta2 = ContaSalario(37)\n",
    "print(conta2)"
   ]
  },
  {
   "cell_type": "code",
   "execution_count": null,
   "metadata": {},
   "outputs": [
    {
     "data": {
      "text/plain": [
       "False"
      ]
     },
     "execution_count": 92,
     "metadata": {},
     "output_type": "execute_result"
    }
   ],
   "source": [
    "# Isto apenas retornaria true se a posição dos objetos fossem o mesmo na memória\n",
    "conta1 == conta2"
   ]
  },
  {
   "cell_type": "code",
   "execution_count": null,
   "metadata": {},
   "outputs": [
    {
     "data": {
      "text/plain": [
       "True"
      ]
     },
     "execution_count": 93,
     "metadata": {},
     "output_type": "execute_result"
    }
   ],
   "source": [
    "contas = [conta1]\n",
    "conta1 in contas"
   ]
  },
  {
   "cell_type": "code",
   "execution_count": null,
   "metadata": {},
   "outputs": [
    {
     "data": {
      "text/plain": [
       "False"
      ]
     },
     "execution_count": 94,
     "metadata": {},
     "output_type": "execute_result"
    }
   ],
   "source": [
    "conta2 in contas"
   ]
  },
  {
   "cell_type": "code",
   "execution_count": null,
   "metadata": {},
   "outputs": [],
   "source": [
    "class ContaSalario:\n",
    "    def __init__(self, codigo):\n",
    "        self._codigo = codigo\n",
    "        self._saldo = 0\n",
    "    def deposita (self, valor):\n",
    "        self._saldo += valor\n",
    "    # Diz ao Python como instâncias são iguais entre si.\n",
    "    def __eq__(self, outro):\n",
    "        return self._codigo == outro._codigo\n",
    "    def __str__ (self):\n",
    "        return '[>> Código: {}. Saldo: {}. <<]'.format(self._codigo, self._saldo)"
   ]
  },
  {
   "cell_type": "code",
   "execution_count": null,
   "metadata": {},
   "outputs": [],
   "source": [
    "conta1 = ContaSalario(37)\n",
    "conta2 = ContaSalario(37)"
   ]
  },
  {
   "cell_type": "code",
   "execution_count": null,
   "metadata": {},
   "outputs": [
    {
     "data": {
      "text/plain": [
       "True"
      ]
     },
     "execution_count": 110,
     "metadata": {},
     "output_type": "execute_result"
    }
   ],
   "source": [
    "conta1==conta2"
   ]
  },
  {
   "cell_type": "code",
   "execution_count": null,
   "metadata": {},
   "outputs": [
    {
     "data": {
      "text/plain": [
       "False"
      ]
     },
     "execution_count": 109,
     "metadata": {},
     "output_type": "execute_result"
    }
   ],
   "source": [
    "conta1!=conta2"
   ]
  },
  {
   "cell_type": "code",
   "execution_count": null,
   "metadata": {},
   "outputs": [
    {
     "data": {
      "text/plain": [
       "True"
      ]
     },
     "execution_count": 111,
     "metadata": {},
     "output_type": "execute_result"
    }
   ],
   "source": [
    "conta1 in [conta2]"
   ]
  },
  {
   "cell_type": "code",
   "execution_count": null,
   "metadata": {},
   "outputs": [
    {
     "data": {
      "text/plain": [
       "True"
      ]
     },
     "execution_count": 112,
     "metadata": {},
     "output_type": "execute_result"
    }
   ],
   "source": [
    "conta2 in [conta1]"
   ]
  },
  {
   "cell_type": "code",
   "execution_count": null,
   "metadata": {},
   "outputs": [],
   "source": [
    "class ContaSalario:\n",
    "    def __init__(self, codigo):\n",
    "        self._codigo = codigo\n",
    "        self._saldo = 0\n",
    "    def deposita (self, valor):\n",
    "        self._saldo += valor\n",
    "    # Boa prática: um __eq__ robusto, comparando todos os campos.\n",
    "    def __eq__(self, outro):\n",
    "        return self._codigo == outro._codigo and self._saldo == outro._saldo\n",
    "    def __str__ (self):\n",
    "        return '[>> Código: {}. Saldo: {}. <<]'.format(self._codigo, self._saldo)"
   ]
  },
  {
   "cell_type": "code",
   "execution_count": null,
   "metadata": {},
   "outputs": [
    {
     "data": {
      "text/plain": [
       "True"
      ]
     },
     "execution_count": 113,
     "metadata": {},
     "output_type": "execute_result"
    }
   ],
   "source": [
    "conta1 = ContaSalario(37)\n",
    "conta2 = ContaSalario(37)\n",
    "conta1==conta2"
   ]
  },
  {
   "cell_type": "code",
   "execution_count": null,
   "metadata": {},
   "outputs": [],
   "source": [
    "conta1.deposita(10)"
   ]
  },
  {
   "cell_type": "code",
   "execution_count": null,
   "metadata": {},
   "outputs": [
    {
     "data": {
      "text/plain": [
       "True"
      ]
     },
     "execution_count": 116,
     "metadata": {},
     "output_type": "execute_result"
    }
   ],
   "source": [
    "conta1 == conta2"
   ]
  },
  {
   "cell_type": "code",
   "execution_count": 148,
   "metadata": {},
   "outputs": [],
   "source": [
    "class ContaSalario:\n",
    "    def __init__(self, codigo):\n",
    "        self._codigo = codigo\n",
    "        self._saldo = 0\n",
    "    def deposita (self, valor):\n",
    "        self._saldo += valor\n",
    "    # É possível verificar até o tipo do objeto, para certificar-se da igualdade.\n",
    "    def __eq__(self, outro):\n",
    "        if type(outro)!=ContaSalario:\n",
    "            return False\n",
    "        return self._codigo == outro._codigo and self._saldo == outro._saldo\n",
    "    def __str__ (self):\n",
    "        return '[>> Código: {}. Saldo: {}. <<]'.format(self._codigo, self._saldo)\n",
    "\n",
    "# Se eu quiser que uma conta salário seja igual a uma classe que lhe herda\n",
    "class ContaMultiploSalario(ContaSalario):\n",
    "    pass"
   ]
  },
  {
   "cell_type": "code",
   "execution_count": 149,
   "metadata": {},
   "outputs": [
    {
     "data": {
      "text/plain": [
       "False"
      ]
     },
     "execution_count": 149,
     "metadata": {},
     "output_type": "execute_result"
    }
   ],
   "source": [
    "conta1 = ContaSalario(37)\n",
    "conta2 = ContaCorrente(37)\n",
    "conta1==conta2"
   ]
  },
  {
   "cell_type": "code",
   "execution_count": 151,
   "metadata": {},
   "outputs": [
    {
     "data": {
      "text/plain": [
       "True"
      ]
     },
     "execution_count": 151,
     "metadata": {},
     "output_type": "execute_result"
    }
   ],
   "source": [
    "isinstance(ContaCorrente(34), ContaCorrente)"
   ]
  },
  {
   "cell_type": "code",
   "execution_count": 159,
   "metadata": {},
   "outputs": [
    {
     "name": "stdout",
     "output_type": "stream",
     "text": [
      "0 15\n",
      "1 87\n",
      "2 32\n",
      "3 65\n",
      "4 56\n",
      "5 32\n",
      "6 49\n",
      "7 37\n"
     ]
    }
   ],
   "source": [
    "idades = [15, 87, 32, 65, 56, 32, 49, 37]\n",
    "for i in range(len(idades)):\n",
    "    print(i, idades[i])"
   ]
  },
  {
   "cell_type": "code",
   "execution_count": 164,
   "metadata": {},
   "outputs": [
    {
     "data": {
      "text/plain": [
       "range(0, 8)"
      ]
     },
     "execution_count": 164,
     "metadata": {},
     "output_type": "execute_result"
    }
   ],
   "source": [
    "# Lazy: está preparado para cumprir sua função quando necessário, mas não o fará até pedido.\n",
    "range(len(idades)) # lazy"
   ]
  },
  {
   "cell_type": "code",
   "execution_count": 163,
   "metadata": {},
   "outputs": [
    {
     "data": {
      "text/plain": [
       "<enumerate at 0xd8467f6900>"
      ]
     },
     "execution_count": 163,
     "metadata": {},
     "output_type": "execute_result"
    }
   ],
   "source": [
    "enumerate(idades) #lazy"
   ]
  },
  {
   "cell_type": "code",
   "execution_count": 167,
   "metadata": {},
   "outputs": [
    {
     "data": {
      "text/plain": [
       "[0, 1, 2, 3, 4, 5, 6, 7]"
      ]
     },
     "execution_count": 167,
     "metadata": {},
     "output_type": "execute_result"
    }
   ],
   "source": [
    "# O list passa por um iterável e o range é obrigado a trabalhar.\n",
    "list(range(len(idades)))"
   ]
  },
  {
   "cell_type": "code",
   "execution_count": 168,
   "metadata": {},
   "outputs": [
    {
     "data": {
      "text/plain": [
       "[(0, 15), (1, 87), (2, 32), (3, 65), (4, 56), (5, 32), (6, 49), (7, 37)]"
      ]
     },
     "execution_count": 168,
     "metadata": {},
     "output_type": "execute_result"
    }
   ],
   "source": [
    "# O list passa por um iterável e o enumerate é obrigado a trabalhar. A propósito, isso cria tuplas porque há \"significado\" nas posições: a posição 0 é índice, a 1 é valor.\n",
    "list(enumerate(idades))"
   ]
  },
  {
   "cell_type": "code",
   "execution_count": 170,
   "metadata": {},
   "outputs": [
    {
     "name": "stdout",
     "output_type": "stream",
     "text": [
      "(0, 15)\n",
      "(1, 87)\n",
      "(2, 32)\n",
      "(3, 65)\n",
      "(4, 56)\n",
      "(5, 32)\n",
      "(6, 49)\n",
      "(7, 37)\n"
     ]
    }
   ],
   "source": [
    "# O de cima gera tudo de uma vez, aqui é um de cada vez.\n",
    "for valor in enumerate(idades):\n",
    "    print(valor)"
   ]
  },
  {
   "cell_type": "code",
   "execution_count": 174,
   "metadata": {},
   "outputs": [
    {
     "name": "stdout",
     "output_type": "stream",
     "text": [
      "0 x 15\n",
      "1 x 87\n",
      "2 x 32\n",
      "3 x 65\n",
      "4 x 56\n",
      "5 x 32\n",
      "6 x 49\n",
      "7 x 37\n"
     ]
    }
   ],
   "source": [
    "for indice, idade in enumerate(idades): # unpacking\n",
    "    print(indice, \"x\", idade)"
   ]
  },
  {
   "cell_type": "code",
   "execution_count": 176,
   "metadata": {},
   "outputs": [
    {
     "name": "stdout",
     "output_type": "stream",
     "text": [
      "Guilherme\n",
      "Daniela\n",
      "Paulo\n"
     ]
    }
   ],
   "source": [
    "usuarios = [\n",
    "    (\"Guilherme\", 37, 1981),\n",
    "    (\"Daniela\", 31, 1987),\n",
    "    (\"Paulo\", 39, 1979)\n",
    "]\n",
    "\n",
    "for nome, idade, nascimento in usuarios: # já desempacotando\n",
    "    print(nome)\n",
    "\n",
    "#   Se as outras variáveis não forem importantes, usar underline (e forçando o mesmo número de elementos). Embora seja bom descrever, para criar um código legível:\n",
    "#   for nome, _, _ in usuarios:\n",
    "#       print(nome)"
   ]
  },
  {
   "cell_type": "code",
   "execution_count": 178,
   "metadata": {},
   "outputs": [
    {
     "data": {
      "text/plain": [
       "[15, 32, 32, 37, 49, 56, 65, 87]"
      ]
     },
     "execution_count": 178,
     "metadata": {},
     "output_type": "execute_result"
    }
   ],
   "source": [
    "# Outros geradores de iteráveis\n",
    "idades"
   ]
  },
  {
   "cell_type": "code",
   "execution_count": null,
   "metadata": {},
   "outputs": [
    {
     "data": {
      "text/plain": [
       "[15, 32, 32, 37, 49, 56, 65, 87]"
      ]
     },
     "metadata": {},
     "output_type": "display_data"
    }
   ],
   "source": [
    "sorted(idades)"
   ]
  },
  {
   "cell_type": "code",
   "execution_count": 180,
   "metadata": {},
   "outputs": [
    {
     "data": {
      "text/plain": [
       "[37, 49, 32, 56, 65, 32, 87, 15]"
      ]
     },
     "execution_count": 180,
     "metadata": {},
     "output_type": "execute_result"
    }
   ],
   "source": [
    "list(reversed(idades))"
   ]
  },
  {
   "cell_type": "code",
   "execution_count": 183,
   "metadata": {},
   "outputs": [],
   "source": [
    "# Para mostrar em decrescente, há duas opções:"
   ]
  },
  {
   "cell_type": "code",
   "execution_count": 184,
   "metadata": {},
   "outputs": [
    {
     "data": {
      "text/plain": [
       "[87, 65, 56, 49, 37, 32, 32, 15]"
      ]
     },
     "execution_count": 184,
     "metadata": {},
     "output_type": "execute_result"
    }
   ],
   "source": [
    "list(reversed(sorted(idades)))"
   ]
  },
  {
   "cell_type": "code",
   "execution_count": 185,
   "metadata": {},
   "outputs": [
    {
     "data": {
      "text/plain": [
       "[87, 65, 56, 49, 37, 32, 32, 15]"
      ]
     },
     "execution_count": 185,
     "metadata": {},
     "output_type": "execute_result"
    }
   ],
   "source": [
    "sorted(idades, reverse=True)\n",
    "\n",
    "# A diferença é: o sorted já devolve uma lista, sem diferença se for uma lista pequena, mas se fosse apenas à medida do necessário, o reversed funcionaria melhor, por ir gerando aos poucos."
   ]
  },
  {
   "cell_type": "code",
   "execution_count": 186,
   "metadata": {},
   "outputs": [
    {
     "data": {
      "text/plain": [
       "[15, 87, 32, 65, 56, 32, 49, 37]"
      ]
     },
     "execution_count": 186,
     "metadata": {},
     "output_type": "execute_result"
    }
   ],
   "source": [
    "# E isso não modificou a lista original.\n",
    "\n",
    "idades"
   ]
  },
  {
   "cell_type": "code",
   "execution_count": 188,
   "metadata": {},
   "outputs": [
    {
     "data": {
      "text/plain": [
       "[15, 32, 32, 37, 49, 56, 65, 87]"
      ]
     },
     "execution_count": 188,
     "metadata": {},
     "output_type": "execute_result"
    }
   ],
   "source": [
    "# Mas isto a muda originalmente, afetando todo o programa... Pense bem antes.\n",
    "\n",
    "idades.sort()\n",
    "idades"
   ]
  },
  {
   "cell_type": "code",
   "execution_count": 10,
   "metadata": {},
   "outputs": [],
   "source": [
    "# Ordenação sem ordem natural\n",
    "# A ordem das strings vai de A-Z e depois a-z. Nos números, é o crescimento para a direita na reta numérica.\n",
    "\n",
    "class ContaSalario:\n",
    "    \n",
    "    def __init__(self, codigo):\n",
    "        self._codigo = codigo\n",
    "        self._saldo = 0\n",
    "    \n",
    "    def deposita (self, valor):\n",
    "        self._saldo += valor\n",
    "    \n",
    "    # É possível verificar até o tipo do objeto, para certificar-se da igualdade.\n",
    "    def __eq__(self, outro):\n",
    "        if type(outro)!=ContaSalario:\n",
    "            return False\n",
    "        return self._codigo == outro._codigo and self._saldo == outro._saldo\n",
    "    \n",
    "    # lt = less than\n",
    "    def __lt__(self, outro):\n",
    "        return self._saldo < outro._saldo\n",
    "        \n",
    "    def __str__ (self):\n",
    "        return '[>> Código: {}. Saldo: {}. <<]'.format(self._codigo, self._saldo)"
   ]
  },
  {
   "cell_type": "code",
   "execution_count": 11,
   "metadata": {},
   "outputs": [],
   "source": [
    "conta_do_nathan = ContaSalario(1)\n",
    "conta_do_nathan.deposita(500)\n",
    "\n",
    "conta_da_sarah = ContaSalario(3)\n",
    "conta_da_sarah.deposita(1000)\n",
    "\n",
    "conta_do_breno = ContaSalario (5)\n",
    "conta_do_breno.deposita(510)\n",
    "\n",
    "contas = [conta_do_nathan, conta_da_sarah, conta_do_breno]"
   ]
  },
  {
   "cell_type": "code",
   "execution_count": 12,
   "metadata": {},
   "outputs": [
    {
     "name": "stdout",
     "output_type": "stream",
     "text": [
      "[>> Código: 1. Saldo: 500. <<]\n",
      "[>> Código: 3. Saldo: 1000. <<]\n",
      "[>> Código: 5. Saldo: 510. <<]\n"
     ]
    }
   ],
   "source": [
    "for conta in contas:\n",
    "    print(conta)"
   ]
  },
  {
   "cell_type": "code",
   "execution_count": 8,
   "metadata": {},
   "outputs": [
    {
     "name": "stdout",
     "output_type": "stream",
     "text": [
      "[>> Código: 1. Saldo: 500. <<]\n",
      "[>> Código: 5. Saldo: 510. <<]\n",
      "[>> Código: 3. Saldo: 1000. <<]\n"
     ]
    }
   ],
   "source": [
    "def extrai_saldo(conta):\n",
    "    # Acessar um atributo privado assim é criminalidade\n",
    "    return conta._saldo\n",
    "\n",
    "for conta in sorted(contas, key=extrai_saldo):\n",
    "    print (conta)"
   ]
  },
  {
   "cell_type": "code",
   "execution_count": 9,
   "metadata": {},
   "outputs": [
    {
     "name": "stdout",
     "output_type": "stream",
     "text": [
      "[>> Código: 1. Saldo: 500. <<]\n",
      "[>> Código: 5. Saldo: 510. <<]\n",
      "[>> Código: 3. Saldo: 1000. <<]\n"
     ]
    }
   ],
   "source": [
    "from operator import attrgetter\n",
    "\n",
    "# Mas se AINDA quiser manter o atributo privado, tem que fazer outra coisa.\n",
    "for conta in sorted(contas, key=attrgetter('_saldo')):\n",
    "    print (conta)"
   ]
  },
  {
   "cell_type": "code",
   "execution_count": 13,
   "metadata": {},
   "outputs": [],
   "source": [
    "conta_do_nathan = ContaSalario(1)\n",
    "conta_do_nathan.deposita(500)\n",
    "\n",
    "conta_da_sarah = ContaSalario(3)\n",
    "conta_da_sarah.deposita(1000)\n",
    "\n",
    "conta_do_breno = ContaSalario (5)\n",
    "conta_do_breno.deposita(510)\n",
    "\n",
    "contas = [conta_do_nathan, conta_da_sarah, conta_do_breno]"
   ]
  },
  {
   "cell_type": "code",
   "execution_count": 14,
   "metadata": {},
   "outputs": [
    {
     "data": {
      "text/plain": [
       "True"
      ]
     },
     "execution_count": 14,
     "metadata": {},
     "output_type": "execute_result"
    }
   ],
   "source": [
    "conta_do_nathan < conta_da_sarah"
   ]
  },
  {
   "cell_type": "code",
   "execution_count": 15,
   "metadata": {},
   "outputs": [
    {
     "name": "stdout",
     "output_type": "stream",
     "text": [
      "[>> Código: 1. Saldo: 500. <<]\n",
      "[>> Código: 5. Saldo: 510. <<]\n",
      "[>> Código: 3. Saldo: 1000. <<]\n"
     ]
    }
   ],
   "source": [
    "for conta in sorted(contas):\n",
    "    print(conta)"
   ]
  },
  {
   "cell_type": "code",
   "execution_count": 16,
   "metadata": {},
   "outputs": [
    {
     "name": "stdout",
     "output_type": "stream",
     "text": [
      "[>> Código: 3. Saldo: 1000. <<]\n",
      "[>> Código: 5. Saldo: 510. <<]\n",
      "[>> Código: 1. Saldo: 500. <<]\n"
     ]
    }
   ],
   "source": [
    "# do maior para o menor\n",
    "for conta in sorted(contas, reverse=True):\n",
    "    print(conta)"
   ]
  },
  {
   "cell_type": "code",
   "execution_count": 18,
   "metadata": {},
   "outputs": [],
   "source": [
    "# Ordenação completa e functools: quero que o código seja relevante na ordem\n",
    "conta_do_nathan = ContaSalario(1700)\n",
    "conta_do_nathan.deposita(500)\n",
    "\n",
    "conta_da_sarah = ContaSalario(3)\n",
    "conta_da_sarah.deposita(1000)\n",
    "\n",
    "conta_do_breno = ContaSalario (130)\n",
    "conta_do_breno.deposita(500)\n",
    "\n",
    "contas = [conta_do_nathan, conta_da_sarah, conta_do_breno]"
   ]
  },
  {
   "cell_type": "code",
   "execution_count": 19,
   "metadata": {},
   "outputs": [
    {
     "name": "stdout",
     "output_type": "stream",
     "text": [
      "[>> Código: 130. Saldo: 500. <<]\n",
      "[>> Código: 1700. Saldo: 500. <<]\n",
      "[>> Código: 3. Saldo: 1000. <<]\n"
     ]
    }
   ],
   "source": [
    "for conta in sorted(contas, key=attrgetter(\"_saldo\", \"_codigo\")):\n",
    "    print(conta)"
   ]
  },
  {
   "cell_type": "code",
   "execution_count": 22,
   "metadata": {},
   "outputs": [],
   "source": [
    "# Ordenação sem ordem natural\n",
    "# A ordem das strings vai de A-Z e depois a-z. Nos números, é o crescimento para a direita na reta numérica.\n",
    "\n",
    "class ContaSalario:\n",
    "    \n",
    "    def __init__(self, codigo):\n",
    "        self._codigo = codigo\n",
    "        self._saldo = 0\n",
    "    \n",
    "    def deposita (self, valor):\n",
    "        self._saldo += valor\n",
    "    \n",
    "    # É possível verificar até o tipo do objeto, para certificar-se da igualdade.\n",
    "    def __eq__(self, outro):\n",
    "        if type(outro)!=ContaSalario:\n",
    "            return False\n",
    "        return self._codigo == outro._codigo and self._saldo == outro._saldo\n",
    "    \n",
    "    # lt = less than\n",
    "    def __lt__(self, outro):\n",
    "        if self._saldo != outro._saldo:\n",
    "            return self._saldo < outro._saldo\n",
    "        return self._codigo < outro._codigo\n",
    "        \n",
    "    def __str__ (self):\n",
    "        return '[>> Código: {}. Saldo: {}. <<]'.format(self._codigo, self._saldo)"
   ]
  },
  {
   "cell_type": "code",
   "execution_count": 23,
   "metadata": {},
   "outputs": [],
   "source": [
    "# Ordenação completa e functools: quero que o código seja relevante na ordem\n",
    "conta_do_nathan = ContaSalario(1700)\n",
    "conta_do_nathan.deposita(500)\n",
    "\n",
    "conta_da_sarah = ContaSalario(3)\n",
    "conta_da_sarah.deposita(500)\n",
    "\n",
    "conta_do_breno = ContaSalario (130)\n",
    "conta_do_breno.deposita(500)\n",
    "\n",
    "contas = [conta_do_nathan, conta_da_sarah, conta_do_breno]"
   ]
  },
  {
   "cell_type": "code",
   "execution_count": 24,
   "metadata": {},
   "outputs": [
    {
     "name": "stdout",
     "output_type": "stream",
     "text": [
      "[>> Código: 3. Saldo: 500. <<]\n",
      "[>> Código: 130. Saldo: 500. <<]\n",
      "[>> Código: 1700. Saldo: 500. <<]\n"
     ]
    }
   ],
   "source": [
    "for conta in sorted(contas):\n",
    "    print(conta)"
   ]
  },
  {
   "cell_type": "code",
   "execution_count": 25,
   "metadata": {},
   "outputs": [
    {
     "ename": "TypeError",
     "evalue": "'<=' not supported between instances of 'ContaSalario' and 'ContaSalario'",
     "output_type": "error",
     "traceback": [
      "\u001b[1;31m---------------------------------------------------------------------------\u001b[0m",
      "\u001b[1;31mTypeError\u001b[0m                                 Traceback (most recent call last)",
      "Cell \u001b[1;32mIn [25], line 1\u001b[0m\n\u001b[1;32m----> 1\u001b[0m conta_do_nathan \u001b[38;5;241m<\u001b[39m\u001b[38;5;241m=\u001b[39m conta_da_sarah\n",
      "\u001b[1;31mTypeError\u001b[0m: '<=' not supported between instances of 'ContaSalario' and 'ContaSalario'"
     ]
    }
   ],
   "source": [
    "# Erro: não suporta menor ou igual.\n",
    "# conta_do_nathan <= conta_da_sarah"
   ]
  },
  {
   "cell_type": "code",
   "execution_count": 28,
   "metadata": {},
   "outputs": [],
   "source": [
    "# Exemplo com total_ordering, um módulo derivado de functools que cria as funções de ordenamento automaticamente\n",
    "\n",
    "from functools import total_ordering\n",
    "\n",
    "@total_ordering\n",
    "class ContaSalario:\n",
    "    \n",
    "    def __init__(self, codigo):\n",
    "        self._codigo = codigo\n",
    "        self._saldo = 0\n",
    "    \n",
    "    def deposita (self, valor):\n",
    "        self._saldo += valor\n",
    "    \n",
    "    # É possível verificar até o tipo do objeto, para certificar-se da igualdade.\n",
    "    def __eq__(self, outro):\n",
    "        if type(outro)!=ContaSalario:\n",
    "            return False\n",
    "        return self._codigo == outro._codigo and self._saldo == outro._saldo\n",
    "    \n",
    "    # lt = less than\n",
    "    def __lt__(self, outro):\n",
    "        if self._saldo != outro._saldo:\n",
    "            return self._saldo < outro._saldo\n",
    "        return self._codigo < outro._codigo\n",
    "        \n",
    "    def __str__ (self):\n",
    "        return '[>> Código: {}. Saldo: {}. <<]'.format(self._codigo, self._saldo)"
   ]
  },
  {
   "cell_type": "code",
   "execution_count": 30,
   "metadata": {},
   "outputs": [],
   "source": [
    "# Ordenação completa e functools: quero que o código seja relevante na ordem\n",
    "conta_do_nathan = ContaSalario(1700)\n",
    "conta_do_nathan.deposita(500)\n",
    "\n",
    "conta_da_sarah = ContaSalario(3)\n",
    "conta_da_sarah.deposita(500)\n",
    "\n",
    "conta_do_breno = ContaSalario (130)\n",
    "conta_do_breno.deposita(500)\n",
    "\n",
    "contas = [conta_do_nathan, conta_da_sarah, conta_do_breno]"
   ]
  },
  {
   "cell_type": "code",
   "execution_count": 31,
   "metadata": {},
   "outputs": [
    {
     "data": {
      "text/plain": [
       "False"
      ]
     },
     "execution_count": 31,
     "metadata": {},
     "output_type": "execute_result"
    }
   ],
   "source": [
    "# Agora suporta menor ou igual.\n",
    "conta_do_nathan <= conta_da_sarah"
   ]
  },
  {
   "cell_type": "code",
   "execution_count": 33,
   "metadata": {},
   "outputs": [
    {
     "data": {
      "text/plain": [
       "True"
      ]
     },
     "execution_count": 33,
     "metadata": {},
     "output_type": "execute_result"
    }
   ],
   "source": [
    "conta_do_nathan >= conta_do_breno"
   ]
  },
  {
   "cell_type": "code",
   "execution_count": 34,
   "metadata": {},
   "outputs": [
    {
     "data": {
      "text/plain": [
       "False"
      ]
     },
     "execution_count": 34,
     "metadata": {},
     "output_type": "execute_result"
    }
   ],
   "source": [
    "conta_do_nathan > conta_do_nathan"
   ]
  },
  {
   "cell_type": "code",
   "execution_count": 35,
   "metadata": {},
   "outputs": [
    {
     "data": {
      "text/plain": [
       "True"
      ]
     },
     "execution_count": 35,
     "metadata": {},
     "output_type": "execute_result"
    }
   ],
   "source": [
    "conta_do_nathan == conta_do_nathan"
   ]
  },
  {
   "cell_type": "code",
   "execution_count": 36,
   "metadata": {},
   "outputs": [
    {
     "data": {
      "text/plain": [
       "True"
      ]
     },
     "execution_count": 36,
     "metadata": {},
     "output_type": "execute_result"
    }
   ],
   "source": [
    "conta_do_nathan >= conta_do_nathan"
   ]
  }
 ],
 "metadata": {
  "kernelspec": {
   "display_name": "Python 3.10.6 64-bit",
   "language": "python",
   "name": "python3"
  },
  "language_info": {
   "codemirror_mode": {
    "name": "ipython",
    "version": 3
   },
   "file_extension": ".py",
   "mimetype": "text/x-python",
   "name": "python",
   "nbconvert_exporter": "python",
   "pygments_lexer": "ipython3",
   "version": "3.10.6"
  },
  "orig_nbformat": 4,
  "vscode": {
   "interpreter": {
    "hash": "3dfdd908862ae5b36f0c6abbc0787ca7805ac4c92c8d851820304f50ed910577"
   }
  }
 },
 "nbformat": 4,
 "nbformat_minor": 2
}
